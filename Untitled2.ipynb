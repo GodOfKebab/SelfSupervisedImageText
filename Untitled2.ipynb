{
 "cells": [
  {
   "cell_type": "code",
   "execution_count": 4,
   "id": "a8baa300",
   "metadata": {},
   "outputs": [],
   "source": [
    "import os\n",
    "import pickle"
   ]
  },
  {
   "cell_type": "code",
   "execution_count": 5,
   "id": "cd922c1c",
   "metadata": {},
   "outputs": [
    {
     "ename": "NameError",
     "evalue": "name 'vocab' is not defined",
     "output_type": "error",
     "traceback": [
      "\u001b[0;31m---------------------------------------------------------------------------\u001b[0m",
      "\u001b[0;31mNameError\u001b[0m                                 Traceback (most recent call last)",
      "Input \u001b[0;32mIn [5]\u001b[0m, in \u001b[0;36m<cell line: 5>\u001b[0;34m()\u001b[0m\n\u001b[1;32m     10\u001b[0m embeddings_matrix \u001b[38;5;241m=\u001b[39m pickle\u001b[38;5;241m.\u001b[39mload(file_ematrix)\n\u001b[1;32m     12\u001b[0m file_vocab_i2t \u001b[38;5;241m=\u001b[39m \u001b[38;5;28mopen\u001b[39m(os\u001b[38;5;241m.\u001b[39mpath\u001b[38;5;241m.\u001b[39mjoin(glove_folder,\u001b[38;5;124m'\u001b[39m\u001b[38;5;124mvocab_i2t.obj\u001b[39m\u001b[38;5;124m'\u001b[39m), \u001b[38;5;124m'\u001b[39m\u001b[38;5;124mrb\u001b[39m\u001b[38;5;124m'\u001b[39m)\n\u001b[0;32m---> 13\u001b[0m \u001b[43mvocab\u001b[49m\u001b[38;5;241m.\u001b[39mi2t \u001b[38;5;241m=\u001b[39m pickle\u001b[38;5;241m.\u001b[39mload(file_vocab_i2t)\n\u001b[1;32m     15\u001b[0m file_vocab_t2i \u001b[38;5;241m=\u001b[39m \u001b[38;5;28mopen\u001b[39m(os\u001b[38;5;241m.\u001b[39mpath\u001b[38;5;241m.\u001b[39mjoin(glove_folder,\u001b[38;5;124m'\u001b[39m\u001b[38;5;124mvocab_t2i.obj\u001b[39m\u001b[38;5;124m'\u001b[39m), \u001b[38;5;124m'\u001b[39m\u001b[38;5;124mrb\u001b[39m\u001b[38;5;124m'\u001b[39m)\n\u001b[1;32m     16\u001b[0m vocab\u001b[38;5;241m.\u001b[39mt2i \u001b[38;5;241m=\u001b[39m pickle\u001b[38;5;241m.\u001b[39mload(file_vocab_t2i)\n",
      "\u001b[0;31mNameError\u001b[0m: name 'vocab' is not defined"
     ]
    }
   ],
   "source": [
    "\n",
    "\n",
    "glove_folder ='data/glove'\n",
    "gname = glove_folder + '/glove.6B.100d.txt' # for glove embedding\n",
    "# gname = None\n",
    "#print(os.getcwd())\n",
    "if gname is not None:\n",
    "    top50k =[]\n",
    "    t2i= {}\n",
    "    ###########################Loading################################\n",
    "    file_ematrix = open(os.path.join(glove_folder,'emtrix.obj'), 'rb') \n",
    "    embeddings_matrix = pickle.load(file_ematrix)\n",
    "    \n",
    "    file_vocab_i2t = open(os.path.join(glove_folder,'vocab_i2t.obj'), 'rb')\n",
    "    vocab.i2t = pickle.load(file_vocab_i2t)\n",
    "    \n",
    "    file_vocab_t2i = open(os.path.join(glove_folder,'vocab_t2i.obj'), 'rb')\n",
    "    vocab.t2i = pickle.load(file_vocab_t2i)\n",
    "    \n",
    "    print('embedding matrix, vocab.i2t, vocab.t2i are saved at ', file_ematrix.name, file_vocab_i2t.name, file_vocab_t2i.name)\n",
    "#     text_datasets['val'].vocab_builder.i2t =vocab.i2t\n",
    "    #f1 =open('i2t', 'w+')\n",
    "    #print('benchmark dataset previous vocabsize', benchmark_datasets['train'].vocab_builder.i2t, file=f1)\n",
    "    #print('length of emtarix', len(embeddings_index))\n",
    "    #for i, word in enumerate(benchmark_datasets['train'].vocab_builder.i2t):\n",
    "     #   embedding_vector = embeddings_index.get(word)\n",
    "      #  if embedding_vector is None:\n",
    "       #     print(word)\n",
    "        \n",
    "        \n",
    "    benchmark_datasets['train'].vocab_builder.i2t = vocab.i2t\n",
    "    #print('benchmark dataset new vocabsize', len(benchmark_datasets['train'].vocab_builder.i2t))\n",
    "#     text_datasets['val'].vocab_builder.t2i = vocab.t2i\n",
    "    benchmark_datasets['train'].vocab_builder.t2i = vocab.t2i\n",
    "    #print('length of t2i', len(benchmark_datasets['train'].vocab_builder.t2i), len(t2i))\n",
    "    \n",
    "    vocab = ds.get_vocab_builder()\n",
    "    #print('compare vocubbuilder birds', ds.vocab_builder.vocab_size(), text_datasets['train'].vocab_builder.vocab_size())\n",
    "\n",
    "else:\n",
    "    embeddings_matrix = None\n",
    "\n",
    "    \n",
    "print(f\"{embeddings_matrix.shape=}\")"
   ]
  },
  {
   "cell_type": "code",
   "execution_count": null,
   "id": "072776e5",
   "metadata": {},
   "outputs": [],
   "source": [
    "config = {  'emb_dim': embedding_dim,\n",
    "            'vocab_size': embeddings_matrix.shape[0],\n",
    "                'hid_dim': hidden_dim//2, #birectional is used so hidden become double\n",
    "                'n_layers': 1,\n",
    "                'dropout': 0.0,\n",
    "                'vocab_size': vocab.vocab_size(),\n",
    "                'sos': vocab.sos_pos(),\n",
    "                'eos': vocab.eos_pos(),\n",
    "                'pad': vocab.pad_pos(),\n",
    "             }\n",
    "model_ft = initialize_model(model_name, config, embeddings_matrix)"
   ]
  }
 ],
 "metadata": {
  "kernelspec": {
   "display_name": "Python 3 (ipykernel)",
   "language": "python",
   "name": "python3"
  },
  "language_info": {
   "codemirror_mode": {
    "name": "ipython",
    "version": 3
   },
   "file_extension": ".py",
   "mimetype": "text/x-python",
   "name": "python",
   "nbconvert_exporter": "python",
   "pygments_lexer": "ipython3",
   "version": "3.8.13"
  }
 },
 "nbformat": 4,
 "nbformat_minor": 5
}
